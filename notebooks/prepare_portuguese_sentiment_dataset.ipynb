{
 "cells": [
  {
   "cell_type": "code",
   "execution_count": 1,
   "id": "a9cce884-3ed3-490c-a6e9-90360c99564b",
   "metadata": {},
   "outputs": [],
   "source": [
    "import pandas as pd\n",
    "import datasets\n",
    "from transformers import BertTokenizer\n",
    "import numpy as np"
   ]
  },
  {
   "cell_type": "code",
   "execution_count": 2,
   "id": "dc6f811c-de19-496c-844e-8915d543bec2",
   "metadata": {},
   "outputs": [
    {
     "name": "stderr",
     "output_type": "stream",
     "text": [
      "/tmp/ipykernel_14948/3934628482.py:1: DtypeWarning: Columns (1) have mixed types. Specify dtype option on import or set low_memory=False.\n",
      "  concatenated = pd.read_csv(\"../data/brazilian_portuguese_sentiment/concatenated.csv\")\n"
     ]
    }
   ],
   "source": [
    "concatenated = pd.read_csv(\"../data/brazilian_portuguese_sentiment/concatenated.csv\")"
   ]
  },
  {
   "cell_type": "code",
   "execution_count": 3,
   "id": "e751ce1c-b4e7-4836-bf93-dd43ba45e890",
   "metadata": {},
   "outputs": [
    {
     "data": {
      "text/html": [
       "<div>\n",
       "<style scoped>\n",
       "    .dataframe tbody tr th:only-of-type {\n",
       "        vertical-align: middle;\n",
       "    }\n",
       "\n",
       "    .dataframe tbody tr th {\n",
       "        vertical-align: top;\n",
       "    }\n",
       "\n",
       "    .dataframe thead th {\n",
       "        text-align: right;\n",
       "    }\n",
       "</style>\n",
       "<table border=\"1\" class=\"dataframe\">\n",
       "  <thead>\n",
       "    <tr style=\"text-align: right;\">\n",
       "      <th></th>\n",
       "      <th>dataset</th>\n",
       "      <th>original_index</th>\n",
       "      <th>review_text</th>\n",
       "      <th>review_text_processed</th>\n",
       "      <th>review_text_tokenized</th>\n",
       "      <th>polarity</th>\n",
       "      <th>rating</th>\n",
       "      <th>kfold_polarity</th>\n",
       "      <th>kfold_rating</th>\n",
       "    </tr>\n",
       "  </thead>\n",
       "  <tbody>\n",
       "    <tr>\n",
       "      <th>0</th>\n",
       "      <td>b2w</td>\n",
       "      <td>11955</td>\n",
       "      <td>Bem macio e felpudo...recomendo.  Preço imbatí...</td>\n",
       "      <td>bem macio e felpudo...recomendo.  preco imbati...</td>\n",
       "      <td>['bem', 'macio', 'felpudo', 'recomendo', 'prec...</td>\n",
       "      <td>1.0</td>\n",
       "      <td>4.0</td>\n",
       "      <td>1</td>\n",
       "      <td>1</td>\n",
       "    </tr>\n",
       "    <tr>\n",
       "      <th>1</th>\n",
       "      <td>b2w</td>\n",
       "      <td>35478</td>\n",
       "      <td>Produto excepcional!  recomendo!!! inovador e ...</td>\n",
       "      <td>produto excepcional!  recomendo!!! inovador e ...</td>\n",
       "      <td>['produto', 'excepcional', 'recomendo', 'inova...</td>\n",
       "      <td>1.0</td>\n",
       "      <td>5.0</td>\n",
       "      <td>1</td>\n",
       "      <td>1</td>\n",
       "    </tr>\n",
       "    <tr>\n",
       "      <th>2</th>\n",
       "      <td>b2w</td>\n",
       "      <td>122760</td>\n",
       "      <td>recebi o produto antes do prazo mas veio com d...</td>\n",
       "      <td>recebi o produto antes do prazo mas veio com d...</td>\n",
       "      <td>['recebi', 'produto', 'antes', 'do', 'prazo', ...</td>\n",
       "      <td>0.0</td>\n",
       "      <td>1.0</td>\n",
       "      <td>1</td>\n",
       "      <td>1</td>\n",
       "    </tr>\n",
       "    <tr>\n",
       "      <th>3</th>\n",
       "      <td>b2w</td>\n",
       "      <td>17114</td>\n",
       "      <td>Bom custo beneficio. Adequado para pessoas que...</td>\n",
       "      <td>bom custo beneficio. adequado para pessoas que...</td>\n",
       "      <td>['bom', 'custo', 'beneficio', 'adequado', 'par...</td>\n",
       "      <td>1.0</td>\n",
       "      <td>5.0</td>\n",
       "      <td>1</td>\n",
       "      <td>1</td>\n",
       "    </tr>\n",
       "    <tr>\n",
       "      <th>4</th>\n",
       "      <td>b2w</td>\n",
       "      <td>19112</td>\n",
       "      <td>Além de higiênico tem o tamanho ideal. Só falt...</td>\n",
       "      <td>alem de higienico tem o tamanho ideal. so falt...</td>\n",
       "      <td>['alem', 'de', 'higienico', 'tem', 'tamanho', ...</td>\n",
       "      <td>NaN</td>\n",
       "      <td>3.0</td>\n",
       "      <td>-1</td>\n",
       "      <td>1</td>\n",
       "    </tr>\n",
       "    <tr>\n",
       "      <th>...</th>\n",
       "      <td>...</td>\n",
       "      <td>...</td>\n",
       "      <td>...</td>\n",
       "      <td>...</td>\n",
       "      <td>...</td>\n",
       "      <td>...</td>\n",
       "      <td>...</td>\n",
       "      <td>...</td>\n",
       "      <td>...</td>\n",
       "    </tr>\n",
       "    <tr>\n",
       "      <th>2786087</th>\n",
       "      <td>buscape</td>\n",
       "      <td>1_422965</td>\n",
       "      <td>Produto muito bom, simples e barato</td>\n",
       "      <td>produto muito bom, simples e barato</td>\n",
       "      <td>['produto', 'muito', 'bom', 'simples', 'barato']</td>\n",
       "      <td>1.0</td>\n",
       "      <td>5.0</td>\n",
       "      <td>10</td>\n",
       "      <td>10</td>\n",
       "    </tr>\n",
       "    <tr>\n",
       "      <th>2786088</th>\n",
       "      <td>buscape</td>\n",
       "      <td>minus_1_150466</td>\n",
       "      <td>O esquema antigo de desmontagem e limpeza das ...</td>\n",
       "      <td>o esquema antigo de desmontagem e limpeza das ...</td>\n",
       "      <td>['esquema', 'antigo', 'de', 'desmontagem', 'li...</td>\n",
       "      <td>NaN</td>\n",
       "      <td>3.0</td>\n",
       "      <td>-1</td>\n",
       "      <td>10</td>\n",
       "    </tr>\n",
       "    <tr>\n",
       "      <th>2786089</th>\n",
       "      <td>buscape</td>\n",
       "      <td>0_414799</td>\n",
       "      <td>Esse jogo é muito maneiro é um jogo onde vc te...</td>\n",
       "      <td>esse jogo e muito maneiro e um jogo onde vc te...</td>\n",
       "      <td>['esse', 'jogo', 'muito', 'maneiro', 'um', 'jo...</td>\n",
       "      <td>1.0</td>\n",
       "      <td>5.0</td>\n",
       "      <td>10</td>\n",
       "      <td>10</td>\n",
       "    </tr>\n",
       "    <tr>\n",
       "      <th>2786090</th>\n",
       "      <td>buscape</td>\n",
       "      <td>0_389898</td>\n",
       "      <td>Muito bom e intuitivo!\\n\\nO que gostei: Educa ...</td>\n",
       "      <td>muito bom e intuitivo!\\n\\no que gostei: educa ...</td>\n",
       "      <td>['muito', 'bom', 'intuitivo', 'que', 'gostei',...</td>\n",
       "      <td>NaN</td>\n",
       "      <td>3.0</td>\n",
       "      <td>-1</td>\n",
       "      <td>10</td>\n",
       "    </tr>\n",
       "    <tr>\n",
       "      <th>2786091</th>\n",
       "      <td>buscape</td>\n",
       "      <td>0_476447</td>\n",
       "      <td>Meu irmão possui um e acho excelente, estou ec...</td>\n",
       "      <td>meu irmao possui um e acho excelente, estou ec...</td>\n",
       "      <td>['meu', 'irmao', 'possui', 'um', 'acho', 'exce...</td>\n",
       "      <td>1.0</td>\n",
       "      <td>5.0</td>\n",
       "      <td>10</td>\n",
       "      <td>10</td>\n",
       "    </tr>\n",
       "  </tbody>\n",
       "</table>\n",
       "<p>2786092 rows × 9 columns</p>\n",
       "</div>"
      ],
      "text/plain": [
       "         dataset  original_index  \\\n",
       "0            b2w           11955   \n",
       "1            b2w           35478   \n",
       "2            b2w          122760   \n",
       "3            b2w           17114   \n",
       "4            b2w           19112   \n",
       "...          ...             ...   \n",
       "2786087  buscape        1_422965   \n",
       "2786088  buscape  minus_1_150466   \n",
       "2786089  buscape        0_414799   \n",
       "2786090  buscape        0_389898   \n",
       "2786091  buscape        0_476447   \n",
       "\n",
       "                                               review_text  \\\n",
       "0        Bem macio e felpudo...recomendo.  Preço imbatí...   \n",
       "1        Produto excepcional!  recomendo!!! inovador e ...   \n",
       "2        recebi o produto antes do prazo mas veio com d...   \n",
       "3        Bom custo beneficio. Adequado para pessoas que...   \n",
       "4        Além de higiênico tem o tamanho ideal. Só falt...   \n",
       "...                                                    ...   \n",
       "2786087                Produto muito bom, simples e barato   \n",
       "2786088  O esquema antigo de desmontagem e limpeza das ...   \n",
       "2786089  Esse jogo é muito maneiro é um jogo onde vc te...   \n",
       "2786090  Muito bom e intuitivo!\\n\\nO que gostei: Educa ...   \n",
       "2786091  Meu irmão possui um e acho excelente, estou ec...   \n",
       "\n",
       "                                     review_text_processed  \\\n",
       "0        bem macio e felpudo...recomendo.  preco imbati...   \n",
       "1        produto excepcional!  recomendo!!! inovador e ...   \n",
       "2        recebi o produto antes do prazo mas veio com d...   \n",
       "3        bom custo beneficio. adequado para pessoas que...   \n",
       "4        alem de higienico tem o tamanho ideal. so falt...   \n",
       "...                                                    ...   \n",
       "2786087                produto muito bom, simples e barato   \n",
       "2786088  o esquema antigo de desmontagem e limpeza das ...   \n",
       "2786089  esse jogo e muito maneiro e um jogo onde vc te...   \n",
       "2786090  muito bom e intuitivo!\\n\\no que gostei: educa ...   \n",
       "2786091  meu irmao possui um e acho excelente, estou ec...   \n",
       "\n",
       "                                     review_text_tokenized  polarity  rating  \\\n",
       "0        ['bem', 'macio', 'felpudo', 'recomendo', 'prec...       1.0     4.0   \n",
       "1        ['produto', 'excepcional', 'recomendo', 'inova...       1.0     5.0   \n",
       "2        ['recebi', 'produto', 'antes', 'do', 'prazo', ...       0.0     1.0   \n",
       "3        ['bom', 'custo', 'beneficio', 'adequado', 'par...       1.0     5.0   \n",
       "4        ['alem', 'de', 'higienico', 'tem', 'tamanho', ...       NaN     3.0   \n",
       "...                                                    ...       ...     ...   \n",
       "2786087   ['produto', 'muito', 'bom', 'simples', 'barato']       1.0     5.0   \n",
       "2786088  ['esquema', 'antigo', 'de', 'desmontagem', 'li...       NaN     3.0   \n",
       "2786089  ['esse', 'jogo', 'muito', 'maneiro', 'um', 'jo...       1.0     5.0   \n",
       "2786090  ['muito', 'bom', 'intuitivo', 'que', 'gostei',...       NaN     3.0   \n",
       "2786091  ['meu', 'irmao', 'possui', 'um', 'acho', 'exce...       1.0     5.0   \n",
       "\n",
       "         kfold_polarity  kfold_rating  \n",
       "0                     1             1  \n",
       "1                     1             1  \n",
       "2                     1             1  \n",
       "3                     1             1  \n",
       "4                    -1             1  \n",
       "...                 ...           ...  \n",
       "2786087              10            10  \n",
       "2786088              -1            10  \n",
       "2786089              10            10  \n",
       "2786090              -1            10  \n",
       "2786091              10            10  \n",
       "\n",
       "[2786092 rows x 9 columns]"
      ]
     },
     "execution_count": 3,
     "metadata": {},
     "output_type": "execute_result"
    }
   ],
   "source": [
    "concatenated"
   ]
  },
  {
   "cell_type": "code",
   "execution_count": 4,
   "id": "cf5c6a70-fd07-4b1c-94b4-fd191fe21442",
   "metadata": {},
   "outputs": [
    {
     "data": {
      "text/html": [
       "<div>\n",
       "<style scoped>\n",
       "    .dataframe tbody tr th:only-of-type {\n",
       "        vertical-align: middle;\n",
       "    }\n",
       "\n",
       "    .dataframe tbody tr th {\n",
       "        vertical-align: top;\n",
       "    }\n",
       "\n",
       "    .dataframe thead th {\n",
       "        text-align: right;\n",
       "    }\n",
       "</style>\n",
       "<table border=\"1\" class=\"dataframe\">\n",
       "  <thead>\n",
       "    <tr style=\"text-align: right;\">\n",
       "      <th></th>\n",
       "      <th>polarity</th>\n",
       "      <th>review_text</th>\n",
       "    </tr>\n",
       "  </thead>\n",
       "  <tbody>\n",
       "    <tr>\n",
       "      <th>0</th>\n",
       "      <td>1.0</td>\n",
       "      <td>Bem macio e felpudo...recomendo.  Preço imbatí...</td>\n",
       "    </tr>\n",
       "    <tr>\n",
       "      <th>1</th>\n",
       "      <td>1.0</td>\n",
       "      <td>Produto excepcional!  recomendo!!! inovador e ...</td>\n",
       "    </tr>\n",
       "    <tr>\n",
       "      <th>2</th>\n",
       "      <td>0.0</td>\n",
       "      <td>recebi o produto antes do prazo mas veio com d...</td>\n",
       "    </tr>\n",
       "    <tr>\n",
       "      <th>3</th>\n",
       "      <td>1.0</td>\n",
       "      <td>Bom custo beneficio. Adequado para pessoas que...</td>\n",
       "    </tr>\n",
       "    <tr>\n",
       "      <th>5</th>\n",
       "      <td>1.0</td>\n",
       "      <td>ótmo produto atendeu as expectativas, a entreg...</td>\n",
       "    </tr>\n",
       "    <tr>\n",
       "      <th>...</th>\n",
       "      <td>...</td>\n",
       "      <td>...</td>\n",
       "    </tr>\n",
       "    <tr>\n",
       "      <th>2786085</th>\n",
       "      <td>1.0</td>\n",
       "      <td>Excelente custo-benefício apresentado por este...</td>\n",
       "    </tr>\n",
       "    <tr>\n",
       "      <th>2786086</th>\n",
       "      <td>1.0</td>\n",
       "      <td>Game muito legal, com uma grande variedade de ...</td>\n",
       "    </tr>\n",
       "    <tr>\n",
       "      <th>2786087</th>\n",
       "      <td>1.0</td>\n",
       "      <td>Produto muito bom, simples e barato</td>\n",
       "    </tr>\n",
       "    <tr>\n",
       "      <th>2786089</th>\n",
       "      <td>1.0</td>\n",
       "      <td>Esse jogo é muito maneiro é um jogo onde vc te...</td>\n",
       "    </tr>\n",
       "    <tr>\n",
       "      <th>2786091</th>\n",
       "      <td>1.0</td>\n",
       "      <td>Meu irmão possui um e acho excelente, estou ec...</td>\n",
       "    </tr>\n",
       "  </tbody>\n",
       "</table>\n",
       "<p>2386163 rows × 2 columns</p>\n",
       "</div>"
      ],
      "text/plain": [
       "         polarity                                        review_text\n",
       "0             1.0  Bem macio e felpudo...recomendo.  Preço imbatí...\n",
       "1             1.0  Produto excepcional!  recomendo!!! inovador e ...\n",
       "2             0.0  recebi o produto antes do prazo mas veio com d...\n",
       "3             1.0  Bom custo beneficio. Adequado para pessoas que...\n",
       "5             1.0  ótmo produto atendeu as expectativas, a entreg...\n",
       "...           ...                                                ...\n",
       "2786085       1.0  Excelente custo-benefício apresentado por este...\n",
       "2786086       1.0  Game muito legal, com uma grande variedade de ...\n",
       "2786087       1.0                Produto muito bom, simples e barato\n",
       "2786089       1.0  Esse jogo é muito maneiro é um jogo onde vc te...\n",
       "2786091       1.0  Meu irmão possui um e acho excelente, estou ec...\n",
       "\n",
       "[2386163 rows x 2 columns]"
      ]
     },
     "execution_count": 4,
     "metadata": {},
     "output_type": "execute_result"
    }
   ],
   "source": [
    "hg_dataset = concatenated[[\"polarity\", \"review_text\"]].dropna()\n",
    "hg_dataset"
   ]
  },
  {
   "cell_type": "code",
   "execution_count": 5,
   "id": "a0537d7b-eb73-4ec9-ac9f-430a712ff2c6",
   "metadata": {},
   "outputs": [],
   "source": [
    "hg_dataset = datasets.Dataset.from_pandas(hg_dataset, split=\"train\")\n",
    "hg_dataset = hg_dataset.remove_columns(\"__index_level_0__\")"
   ]
  },
  {
   "cell_type": "code",
   "execution_count": 6,
   "id": "54961da3-cdae-4ff8-9d51-de6b125a64f2",
   "metadata": {},
   "outputs": [
    {
     "data": {
      "text/plain": [
       "Dataset({\n",
       "    features: ['polarity', 'review_text'],\n",
       "    num_rows: 2386163\n",
       "})"
      ]
     },
     "execution_count": 6,
     "metadata": {},
     "output_type": "execute_result"
    }
   ],
   "source": [
    "hg_dataset"
   ]
  },
  {
   "cell_type": "code",
   "execution_count": 7,
   "id": "63d35195-7799-4f05-b8fb-2ec78fb6d63d",
   "metadata": {},
   "outputs": [],
   "source": [
    "#hg_dataset.push_to_hub(\"jvanz/portuguese_sentiment_analysis\")"
   ]
  },
  {
   "cell_type": "code",
   "execution_count": 8,
   "id": "9a9d7421-36f4-4914-bd52-7291e0bfb5b0",
   "metadata": {},
   "outputs": [
    {
     "name": "stdout",
     "output_type": "stream",
     "text": [
      "       "
     ]
    },
    {
     "data": {
      "application/vnd.jupyter.widget-view+json": {
       "model_id": "9ebae5dd10064e31ac7da5ebfe051314",
       "version_major": 2,
       "version_minor": 0
      },
      "text/plain": [
       "#0:   0%|          | 0/398 [00:00<?, ?ba/s]"
      ]
     },
     "metadata": {},
     "output_type": "display_data"
    },
    {
     "name": "stdout",
     "output_type": "stream",
     "text": [
      " "
     ]
    },
    {
     "data": {
      "application/vnd.jupyter.widget-view+json": {
       "model_id": "7fde88d5e31b4b6e8357b1d377f8d605",
       "version_major": 2,
       "version_minor": 0
      },
      "text/plain": [
       "#1:   0%|          | 0/398 [00:00<?, ?ba/s]"
      ]
     },
     "metadata": {},
     "output_type": "display_data"
    },
    {
     "name": "stdout",
     "output_type": "stream",
     "text": [
      " "
     ]
    },
    {
     "data": {
      "application/vnd.jupyter.widget-view+json": {
       "model_id": "36025e0809064741b837581668651be8",
       "version_major": 2,
       "version_minor": 0
      },
      "text/plain": [
       "#2:   0%|          | 0/398 [00:00<?, ?ba/s]"
      ]
     },
     "metadata": {},
     "output_type": "display_data"
    },
    {
     "name": "stdout",
     "output_type": "stream",
     "text": [
      " "
     ]
    },
    {
     "data": {
      "application/vnd.jupyter.widget-view+json": {
       "model_id": "a0f8871888af43849438173943ecc63d",
       "version_major": 2,
       "version_minor": 0
      },
      "text/plain": [
       "#3:   0%|          | 0/398 [00:00<?, ?ba/s]"
      ]
     },
     "metadata": {},
     "output_type": "display_data"
    },
    {
     "name": "stdout",
     "output_type": "stream",
     "text": [
      " "
     ]
    },
    {
     "data": {
      "application/vnd.jupyter.widget-view+json": {
       "model_id": "8c5a7cf2139644dcabeeec903a7e5ea0",
       "version_major": 2,
       "version_minor": 0
      },
      "text/plain": [
       "#4:   0%|          | 0/398 [00:00<?, ?ba/s]"
      ]
     },
     "metadata": {},
     "output_type": "display_data"
    },
    {
     "name": "stdout",
     "output_type": "stream",
     "text": [
      " "
     ]
    },
    {
     "data": {
      "application/vnd.jupyter.widget-view+json": {
       "model_id": "8cb97520b7a34c279243d732b7a11286",
       "version_major": 2,
       "version_minor": 0
      },
      "text/plain": [
       "#5:   0%|          | 0/398 [00:00<?, ?ba/s]"
      ]
     },
     "metadata": {},
     "output_type": "display_data"
    },
    {
     "data": {
      "text/plain": [
       "Dataset({\n",
       "    features: ['polarity', 'review_text', 'input_ids', 'token_type_ids', 'attention_mask'],\n",
       "    num_rows: 2386163\n",
       "})"
      ]
     },
     "execution_count": 8,
     "metadata": {},
     "output_type": "execute_result"
    }
   ],
   "source": [
    "tokenizer = BertTokenizer.from_pretrained(\"neuralmind/bert-base-portuguese-cased\")\n",
    "hg_dataset = hg_dataset.map(lambda x:tokenizer(x[\"review_text\"], add_special_tokens=False), num_proc=6,batched=True)\n",
    "hg_dataset"
   ]
  },
  {
   "cell_type": "code",
   "execution_count": 9,
   "id": "af725d80-a525-4a61-b112-4459414f646e",
   "metadata": {},
   "outputs": [
    {
     "data": {
      "application/vnd.jupyter.widget-view+json": {
       "model_id": "4c00c043d3ce464190b919ae6960fb13",
       "version_major": 2,
       "version_minor": 0
      },
      "text/plain": [
       "  0%|          | 0/2386163 [00:00<?, ?ex/s]"
      ]
     },
     "metadata": {},
     "output_type": "display_data"
    },
    {
     "data": {
      "application/vnd.jupyter.widget-view+json": {
       "model_id": "044b262b9a444c75a54e8c5efa7a1b36",
       "version_major": 2,
       "version_minor": 0
      },
      "text/plain": [
       "  0%|          | 0/2387 [00:00<?, ?ba/s]"
      ]
     },
     "metadata": {},
     "output_type": "display_data"
    }
   ],
   "source": [
    "hg_dataset = hg_dataset.map(lambda x: {\"tokens_count\": len(x[\"input_ids\"])}).filter(lambda x: x[\"tokens_count\"] != 0)"
   ]
  },
  {
   "cell_type": "code",
   "execution_count": null,
   "id": "e63525b0-280b-4904-b46b-8545df0c324d",
   "metadata": {},
   "outputs": [],
   "source": [
    "dataset = hg_dataset.to_pandas()\n",
    "dataset"
   ]
  },
  {
   "cell_type": "code",
   "execution_count": null,
   "id": "ce8903e4-942e-4b2c-9c11-d1df9947fb17",
   "metadata": {},
   "outputs": [],
   "source": [
    "filtered_dataset = dataset[dataset.tokens_count != 0]\n",
    "filtered_dataset"
   ]
  }
 ],
 "metadata": {
  "kernelspec": {
   "display_name": "Python 3",
   "language": "python",
   "name": "python3"
  },
  "language_info": {
   "codemirror_mode": {
    "name": "ipython",
    "version": 3
   },
   "file_extension": ".py",
   "mimetype": "text/x-python",
   "name": "python",
   "nbconvert_exporter": "python",
   "pygments_lexer": "ipython3",
   "version": "3.8.13"
  }
 },
 "nbformat": 4,
 "nbformat_minor": 5
}
