{
 "cells": [
  {
   "cell_type": "code",
   "execution_count": 1,
   "id": "a15a8d61-62b6-4469-810e-786835377b0f",
   "metadata": {},
   "outputs": [],
   "source": [
    "import pandas as pd\n",
    "import datasets\n",
    "\n",
    "pd.set_option(\"display.max_colwidth\", 5000)\n"
   ]
  },
  {
   "cell_type": "code",
   "execution_count": 2,
   "id": "cbd6d52d-dec5-4f5c-ab49-58eb1915dda0",
   "metadata": {},
   "outputs": [],
   "source": [
    "rejected = pd.read_csv(\"../rejected_dataset\")\n",
    "rejected = rejected.drop(['Unnamed: 0'], axis=1)\n"
   ]
  },
  {
   "cell_type": "code",
   "execution_count": 3,
   "id": "aea9f5da-3dec-427d-850c-713d5d920440",
   "metadata": {},
   "outputs": [],
   "source": [
    "selected = pd.read_csv(\"../selected_dataset\")\n",
    "selected = selected.drop(['Unnamed: 0'], axis=1)\n"
   ]
  },
  {
   "cell_type": "code",
   "execution_count": 4,
   "id": "1e741f98-a874-4df3-9a44-1ed3de1eee6d",
   "metadata": {},
   "outputs": [],
   "source": [
    "selected[\"is_selected\"] = True\n",
    "rejected[\"is_selected\"] = False\n",
    "rejected[\"single_token_percent\"] = rejected[\"single_letter_tokens_count\"] / rejected[\"total_tokens_count\"]\n",
    "rejected = rejected[rejected.total_tokens_count != 0]\n",
    "selected[\"single_token_percent\"] = selected[\"single_letter_tokens_count\"] / selected[\"total_tokens_count\"]"
   ]
  },
  {
   "cell_type": "code",
   "execution_count": 5,
   "id": "bc41ece7-42dc-4a61-a48d-132345f1c01a",
   "metadata": {},
   "outputs": [],
   "source": [
    "querido_diario = pd.concat([rejected, selected], axis=0)"
   ]
  },
  {
   "cell_type": "code",
   "execution_count": 6,
   "id": "b9c1a438-5c5f-4271-b074-923522c5a8e7",
   "metadata": {},
   "outputs": [
    {
     "data": {
      "text/html": [
       "<div>\n",
       "<style scoped>\n",
       "    .dataframe tbody tr th:only-of-type {\n",
       "        vertical-align: middle;\n",
       "    }\n",
       "\n",
       "    .dataframe tbody tr th {\n",
       "        vertical-align: top;\n",
       "    }\n",
       "\n",
       "    .dataframe thead th {\n",
       "        text-align: right;\n",
       "    }\n",
       "</style>\n",
       "<table border=\"1\" class=\"dataframe\">\n",
       "  <thead>\n",
       "    <tr style=\"text-align: right;\">\n",
       "      <th></th>\n",
       "      <th>single_letter_tokens_count</th>\n",
       "      <th>total_tokens_count</th>\n",
       "      <th>single_token_percent</th>\n",
       "    </tr>\n",
       "  </thead>\n",
       "  <tbody>\n",
       "    <tr>\n",
       "      <th>count</th>\n",
       "      <td>3.810203e+07</td>\n",
       "      <td>3.810203e+07</td>\n",
       "      <td>3.810203e+07</td>\n",
       "    </tr>\n",
       "    <tr>\n",
       "      <th>mean</th>\n",
       "      <td>1.748253e+01</td>\n",
       "      <td>6.914769e+01</td>\n",
       "      <td>2.565053e-01</td>\n",
       "    </tr>\n",
       "    <tr>\n",
       "      <th>std</th>\n",
       "      <td>4.190156e+01</td>\n",
       "      <td>1.045400e+02</td>\n",
       "      <td>1.195906e-01</td>\n",
       "    </tr>\n",
       "    <tr>\n",
       "      <th>min</th>\n",
       "      <td>0.000000e+00</td>\n",
       "      <td>1.000000e+00</td>\n",
       "      <td>0.000000e+00</td>\n",
       "    </tr>\n",
       "    <tr>\n",
       "      <th>25%</th>\n",
       "      <td>7.000000e+00</td>\n",
       "      <td>3.000000e+01</td>\n",
       "      <td>1.818182e-01</td>\n",
       "    </tr>\n",
       "    <tr>\n",
       "      <th>50%</th>\n",
       "      <td>1.200000e+01</td>\n",
       "      <td>4.600000e+01</td>\n",
       "      <td>2.400000e-01</td>\n",
       "    </tr>\n",
       "    <tr>\n",
       "      <th>75%</th>\n",
       "      <td>2.000000e+01</td>\n",
       "      <td>7.900000e+01</td>\n",
       "      <td>3.046358e-01</td>\n",
       "    </tr>\n",
       "    <tr>\n",
       "      <th>max</th>\n",
       "      <td>1.208560e+05</td>\n",
       "      <td>1.212780e+05</td>\n",
       "      <td>1.000000e+00</td>\n",
       "    </tr>\n",
       "  </tbody>\n",
       "</table>\n",
       "</div>"
      ],
      "text/plain": [
       "       single_letter_tokens_count  total_tokens_count  single_token_percent\n",
       "count                3.810203e+07        3.810203e+07          3.810203e+07\n",
       "mean                 1.748253e+01        6.914769e+01          2.565053e-01\n",
       "std                  4.190156e+01        1.045400e+02          1.195906e-01\n",
       "min                  0.000000e+00        1.000000e+00          0.000000e+00\n",
       "25%                  7.000000e+00        3.000000e+01          1.818182e-01\n",
       "50%                  1.200000e+01        4.600000e+01          2.400000e-01\n",
       "75%                  2.000000e+01        7.900000e+01          3.046358e-01\n",
       "max                  1.208560e+05        1.212780e+05          1.000000e+00"
      ]
     },
     "execution_count": 6,
     "metadata": {},
     "output_type": "execute_result"
    }
   ],
   "source": [
    "querido_diario.describe()"
   ]
  },
  {
   "cell_type": "code",
   "execution_count": 7,
   "id": "7f7ee118-eb28-4076-b50d-d4b2de2f85ba",
   "metadata": {},
   "outputs": [],
   "source": [
    "nomeacao = querido_diario[querido_diario.text.str.contains(\"nomeação\")|querido_diario.text.str.contains(\"exoneração\")]"
   ]
  },
  {
   "cell_type": "code",
   "execution_count": null,
   "id": "799bdf9a-38b0-4a9c-9e57-308b88bcf76d",
   "metadata": {},
   "outputs": [],
   "source": [
    "compras = querido_diario[querido_diario.text.str.contains(\"compra\")|querido_diario.text.str.contains(\"aquisição\")|querido_diario.text.str.contains(\"contratação\")]"
   ]
  },
  {
   "cell_type": "code",
   "execution_count": null,
   "id": "a6d04faf-f400-4055-a7a2-4131dd3667b8",
   "metadata": {},
   "outputs": [],
   "source": [
    "leis = querido_diario[querido_diario.text.str.contains(\"lei\")]"
   ]
  }
 ],
 "metadata": {
  "kernelspec": {
   "display_name": "Python 3 (ipykernel)",
   "language": "python",
   "name": "python3"
  },
  "language_info": {
   "codemirror_mode": {
    "name": "ipython",
    "version": 3
   },
   "file_extension": ".py",
   "mimetype": "text/x-python",
   "name": "python",
   "nbconvert_exporter": "python",
   "pygments_lexer": "ipython3",
   "version": "3.8.13"
  }
 },
 "nbformat": 4,
 "nbformat_minor": 5
}
